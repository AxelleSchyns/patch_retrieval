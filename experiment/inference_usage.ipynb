{
 "cells": [
  {
   "cell_type": "markdown",
   "id": "8ccdd0df",
   "metadata": {},
   "source": [
    "# How to get inference results"
   ]
  },
  {
   "cell_type": "code",
   "execution_count": null,
   "id": "6cd9dc18",
   "metadata": {
    "vscode": {
     "languageId": "plaintext"
    }
   },
   "outputs": [],
   "source": [
    "from experiment.quantitative import *\n",
    "from experiment.qualitative import *\n",
    "from models.model import *"
   ]
  },
  {
   "cell_type": "markdown",
   "id": "52f70af3",
   "metadata": {},
   "source": [
    "## Quantitative analysis"
   ]
  },
  {
   "cell_type": "code",
   "execution_count": null,
   "id": "cbfb22af",
   "metadata": {
    "vscode": {
     "languageId": "plaintext"
    }
   },
   "outputs": [],
   "source": [
    "model_name = \"resnet\"\n",
    "weights = \"Path to resnet weights\"\n",
    "device = \"cuda\" if torch.cuda.is_available() else \"cpu\"\n",
    "model = Model(model_name, weights, device)\n",
    "\n",
    "data_name = \"uliege\"\n",
    "data_path = \"path to your data\"\n",
    "\n",
    "database = Database(\"db\", model)\n",
    "path_index = \"Path to the dataset to index\"\n",
    "database.add_dataset(path_index)\n",
    "\n",
    "measure = \"all\""
   ]
  },
  {
   "cell_type": "markdown",
   "id": "c5894aa2",
   "metadata": {},
   "source": [
    "### Computes results on all the class, for a specific measure, once"
   ]
  },
  {
   "cell_type": "code",
   "execution_count": null,
   "id": "5a2304fb",
   "metadata": {
    "vscode": {
     "languageId": "plaintext"
    }
   },
   "outputs": [],
   "source": [
    "full_test(model, \"db\", data_name, data_path, measure, \"test_result\"):"
   ]
  },
  {
   "cell_type": "markdown",
   "id": "a78d52be",
   "metadata": {},
   "source": [
    "### Computes results on all the classes, for a specific measure, a specified amount of time"
   ]
  },
  {
   "cell_type": "code",
   "execution_count": null,
   "id": "f17f6a38",
   "metadata": {
    "vscode": {
     "languageId": "plaintext"
    }
   },
   "outputs": [],
   "source": [
    "full_test(model, \"db\", data_name, data_path, measure, stat=True, nb_exp = 5):"
   ]
  },
  {
   "cell_type": "markdown",
   "id": "05481a69",
   "metadata": {},
   "source": [
    "### Computes result for each class, once"
   ]
  },
  {
   "cell_type": "code",
   "execution_count": null,
   "id": "fd9379f7",
   "metadata": {
    "vscode": {
     "languageId": "plaintext"
    }
   },
   "outputs": [],
   "source": [
    "sheet_name = \"notebook_run\"\n",
    "excel_path = \"path to the excel where to write the results\"\n",
    "test_each_class(model, \"db\", data_name, data_path,  measure, sheet_name, excel_path, stat = False):"
   ]
  },
  {
   "cell_type": "markdown",
   "id": "613ad4c7",
   "metadata": {},
   "source": [
    "## Qualitative results"
   ]
  },
  {
   "cell_type": "markdown",
   "id": "a0e0e0f1",
   "metadata": {},
   "source": [
    "Note: the indexing is done by default for the multiple models qualitative inference. Fro the one_query_one_model function, it will only be done if a path is provided"
   ]
  },
  {
   "cell_type": "code",
   "execution_count": null,
   "id": "2fe1b33b",
   "metadata": {
    "vscode": {
     "languageId": "plaintext"
    }
   },
   "outputs": [],
   "source": [
    "log_path = \"/results\" \n",
    "device = \"cuda\" if torch.cuda.is_available() else \"cpu\"\n",
    "results_dir = \"path where to save the resulting images\"\n",
    "path_index = \"path to the dataset to index in the database\""
   ]
  },
  {
   "cell_type": "markdown",
   "id": "32f21b16",
   "metadata": {},
   "source": [
    "### Retrieve the top10 results for one given query for one given model"
   ]
  },
  {
   "cell_type": "code",
   "execution_count": null,
   "id": "b743c041",
   "metadata": {
    "vscode": {
     "languageId": "plaintext"
    }
   },
   "outputs": [],
   "source": [
    "query_path = \"path to the query image\"\n",
    "model_name = \"resnet\"\n",
    "model_weight = \"Path to resnet weight\"\n",
    "\n",
    "one_query_one_model(log_path, model_name, model_weight, device, query_path, results_dir, path_index)\n",
    "    "
   ]
  },
  {
   "cell_type": "markdown",
   "id": "fbd46d35",
   "metadata": {},
   "source": [
    "### Retrieve the top1 result for a single query for a given list of models"
   ]
  },
  {
   "cell_type": "markdown",
   "id": "dec25737",
   "metadata": {},
   "source": [
    "Note: for weights_dir, the folder must be built this way:\n",
    "- weights_dir\n",
    "    - Model_name \n",
    "        - Model\n",
    "            - weight\n",
    "    - Model_name\n",
    "        - v1\n",
    "            - weight\n",
    "        - v2\n",
    "            - weight\n",
    "    - Model_name\n",
    "        - scratch\n",
    "            - weight\n",
    "        - fine\n",
    "            - weight\n",
    "        - pre\n",
    "            - weight\n",
    "\n",
    "\n",
    "Each model has its own folder. Each version of a model has its own folder that is named either \n",
    "- v+number of the version \n",
    "- Model \n",
    "- scratch / fine / pre \n",
    "\n",
    "Inside that sub folder must always be present a weight file or a placeholder file called 'weight'. Any extension works (.txt, .ckpt, .pth,...)"
   ]
  },
  {
   "cell_type": "code",
   "execution_count": null,
   "id": "2b5b9b0e",
   "metadata": {
    "vscode": {
     "languageId": "plaintext"
    }
   },
   "outputs": [],
   "source": [
    "models_name_list = [\"resnet\", \"dino_pre\", \"ibot_fine\", \"byol_light_scratch\", \"retccl\"]\n",
    "query_path = \"path to the query image\"\n",
    "weights_dir = \"path to the folder containing the weights\"\n",
    "\n",
    "one_query_all_models(log_path, models_name_list, query_path, results_dir, weights_dir, path_index, device)"
   ]
  },
  {
   "cell_type": "markdown",
   "id": "d5e1f4d8",
   "metadata": {},
   "source": [
    "### Retrieve the top1 result for several queries and several models"
   ]
  },
  {
   "cell_type": "code",
   "execution_count": null,
   "id": "de124dd3",
   "metadata": {
    "vscode": {
     "languageId": "plaintext"
    }
   },
   "outputs": [],
   "source": [
    "models_name_list = [\"resnet\", \"dino_pre\", \"ibot_fine\", \"byol_light_scratch\", \"retccl\"]\n",
    "queries_path = [\"query1\", \"query2\", \"query3\"]\n",
    "weights_dir = \"path to the folder containing the weights\"\n",
    "\n",
    "multi_query_multi_models(log_path, models_name_list, queries_path, results_dir, weights_dir, path_index, device):\n"
   ]
  }
 ],
 "metadata": {
  "language_info": {
   "name": "python"
  }
 },
 "nbformat": 4,
 "nbformat_minor": 5
}
