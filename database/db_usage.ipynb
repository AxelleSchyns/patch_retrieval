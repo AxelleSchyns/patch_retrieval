{
 "cells": [
  {
   "cell_type": "markdown",
   "id": "0753e183",
   "metadata": {},
   "source": [
    "# How to work with the database\n",
    "The functions can be found in db.py. The database is built using [FAISS](https://github.com/facebookresearch/faiss) and [Redis](https://redis.io/)"
   ]
  },
  {
   "cell_type": "code",
   "execution_count": null,
   "id": "c01a4074",
   "metadata": {
    "vscode": {
     "languageId": "plaintext"
    }
   },
   "outputs": [],
   "source": [
    "from database.db import *\n",
    "from models.model import *"
   ]
  },
  {
   "cell_type": "markdown",
   "id": "48c04279",
   "metadata": {},
   "source": [
    "### Step 1: Device selection"
   ]
  },
  {
   "cell_type": "code",
   "execution_count": null,
   "id": "d5706230",
   "metadata": {
    "vscode": {
     "languageId": "plaintext"
    }
   },
   "outputs": [],
   "source": [
    "\n",
    "device = \"cuda\" if torch.cuda.is_available() else \"cpu\""
   ]
  },
  {
   "cell_type": "markdown",
   "id": "c164bdc1",
   "metadata": {},
   "source": [
    "### Step 2: Model creation\n",
    "Place your pretrained weights in the weight_fold prior to starting the command, and replace the model name by the name of the model you plan in using - see *model_usage.ipynb* for more information"
   ]
  },
  {
   "cell_type": "code",
   "execution_count": null,
   "id": "f6d2290f",
   "metadata": {
    "vscode": {
     "languageId": "plaintext"
    }
   },
   "outputs": [],
   "source": [
    "\n",
    "model = Model(model_name=\"resnet\", num_features=128, weight=\"weight_fold/resnet\", device=device)"
   ]
  },
  {
   "cell_type": "markdown",
   "id": "2ce5f07c",
   "metadata": {},
   "source": [
    "### Step 3: Building the database"
   ]
  },
  {
   "cell_type": "code",
   "execution_count": null,
   "id": "7e8482e0",
   "metadata": {
    "vscode": {
     "languageId": "plaintext"
    }
   },
   "outputs": [],
   "source": [
    "# Creating a new database\n",
    "db_name = \"new_db\" \n",
    "db = Database(db_name, model, load=False, device=device)"
   ]
  },
  {
   "cell_type": "code",
   "execution_count": null,
   "id": "895a38bc",
   "metadata": {
    "vscode": {
     "languageId": "plaintext"
    }
   },
   "outputs": [],
   "source": [
    "# Loading an existing database\n",
    "db_name = \"existing_db\"\n",
    "db = Database(db_name, model, load=True, device=device)"
   ]
  },
  {
   "cell_type": "code",
   "execution_count": null,
   "id": "0232e5b3",
   "metadata": {
    "vscode": {
     "languageId": "plaintext"
    }
   },
   "outputs": [],
   "source": [
    "# Add images\n",
    "dataset_path = \"/path_to_dataset\" \n",
    "db.add_dataset(dataset_path)"
   ]
  },
  {
   "cell_type": "markdown",
   "id": "e7973f9d",
   "metadata": {},
   "source": [
    "### Step 4: Training the database (optional)"
   ]
  },
  {
   "cell_type": "code",
   "execution_count": null,
   "id": "96a6af61",
   "metadata": {
    "vscode": {
     "languageId": "plaintext"
    }
   },
   "outputs": [],
   "source": [
    "db.train_index()"
   ]
  },
  {
   "cell_type": "markdown",
   "id": "673f5d00",
   "metadata": {},
   "source": [
    "### Step 5: Save the database"
   ]
  },
  {
   "cell_type": "code",
   "execution_count": null,
   "id": "cf9089e8",
   "metadata": {
    "vscode": {
     "languageId": "plaintext"
    }
   },
   "outputs": [],
   "source": [
    "db.save()"
   ]
  },
  {
   "cell_type": "markdown",
   "id": "1895ebdf",
   "metadata": {},
   "source": [
    "### Step 6: Search in the database"
   ]
  },
  {
   "cell_type": "code",
   "execution_count": null,
   "id": "6961662d",
   "metadata": {
    "vscode": {
     "languageId": "plaintext"
    }
   },
   "outputs": [],
   "source": [
    "nb_neighbors = 10\n",
    "query = \"/path_to_query\"\n",
    "values, distances, t_model, t_search, t_transfer = db.search(query, nrt_neigh = nb_neighbors)\n",
    "\n",
    "print(\"The \", nb_neighbors, \" the closest to the query are: \", values,\". They are at distances: \", distances)\n",
    "print(\"The model took \", t_model, \" to process the query, while the search in the database took \", t_search)"
   ]
  }
 ],
 "metadata": {
  "language_info": {
   "name": "python"
  }
 },
 "nbformat": 4,
 "nbformat_minor": 5
}
