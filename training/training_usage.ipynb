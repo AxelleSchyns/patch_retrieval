{
 "cells": [
  {
   "cell_type": "markdown",
   "id": "94cb3a2e",
   "metadata": {},
   "source": [
    "# How to train the supervised models\n",
    "only to train the DeiT and the ResNet in a supervised fashion"
   ]
  },
  {
   "cell_type": "code",
   "execution_count": null,
   "id": "98a7a78b",
   "metadata": {
    "vscode": {
     "languageId": "plaintext"
    }
   },
   "outputs": [],
   "source": [
    "from models.model import *\n",
    "from training.training import *"
   ]
  },
  {
   "cell_type": "markdown",
   "id": "70b9ac6c",
   "metadata": {},
   "source": [
    "## Load of the model"
   ]
  },
  {
   "cell_type": "code",
   "execution_count": null,
   "id": "83ea015c",
   "metadata": {
    "vscode": {
     "languageId": "plaintext"
    }
   },
   "outputs": [],
   "source": [
    "model_name = \"resnet\"\n",
    "#model_name = \"deit\"\n",
    "weight = \"Path to pretrained weights if any\"\n",
    "\n",
    "device = \"cuda\" if torch.cuda.is_available() else \"cpu\"\n",
    "\n",
    "model = Model(model_name, weight, device)"
   ]
  },
  {
   "cell_type": "markdown",
   "id": "655a5b53",
   "metadata": {},
   "source": [
    "## Training"
   ]
  },
  {
   "cell_type": "markdown",
   "id": "2449c105",
   "metadata": {},
   "source": [
    "The training of the model allows to set several parameters (some set as default¹):\n",
    "- *loss_name*= the loss function: supports \"margin\", \"proxy_nca_pp\", \"softmax\", \"softtriple\"\n",
    "- *epochs* = number of epochs to train the model on\n",
    "- *training_dir* = path to the training data. \n",
    "- *batch_size*. Default 32\n",
    "- *lr, decay, beta_lr, lr_proxies* = parameters for the loss function, depends on the loss selected. Default: 10⁻⁴, 4.10⁻⁴, 5.10⁻⁴, 10⁻⁵ \n",
    "- *sched* = the scheduler to use: supports \"exponential\"¹ or \"step\" \n",
    "- *gamma* = parameter for the schedule. Default 0.3 \n",
    "- *Parallel* = flag to set to True to activate training on several GPUs on parallel\n",
    "- *informative_samp* = flag to set to True to sample the data using the informative sampling method\n",
    "- *starting_weight* = path to weights of the model to start the training at a later point \n",
    "- *epoch_freq* = frequency at which to save the model's weights. Default 20\n",
    "- *need_val* = flag to set to True to use a portion of the training data as valdiation set"
   ]
  },
  {
   "cell_type": "code",
   "execution_count": null,
   "id": "1c33da61",
   "metadata": {
    "vscode": {
     "languageId": "plaintext"
    }
   },
   "outputs": [],
   "source": [
    "loss_name = \"margin\" \n",
    "epochs = 100\n",
    "training_dir = \"path to training data\" \n",
    "batch_size = 16 \n",
    "\n",
    "\n",
    "\n",
    "train_model(model, loss_name, epochs, training_dir, parallel = False, informative_samp = True, epoch_freq = 20, need_val = True)\n",
    "\n",
    "\n"
   ]
  }
 ],
 "metadata": {
  "language_info": {
   "name": "python"
  }
 },
 "nbformat": 4,
 "nbformat_minor": 5
}
